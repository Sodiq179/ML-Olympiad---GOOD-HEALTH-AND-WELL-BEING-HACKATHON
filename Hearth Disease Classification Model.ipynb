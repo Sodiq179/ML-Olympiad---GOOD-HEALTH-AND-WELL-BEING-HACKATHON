{
 "cells": [
  {
   "cell_type": "markdown",
   "id": "0bc06256",
   "metadata": {},
   "source": [
    "### Libraries"
   ]
  },
  {
   "cell_type": "code",
   "execution_count": 1,
   "id": "64d94e62",
   "metadata": {},
   "outputs": [],
   "source": [
    "import numpy as np\n",
    "import pandas as pd\n",
    "import matplotlib.pyplot as plt\n",
    "\n",
    "from sklearn.linear_model import LogisticRegression\n",
    "from sklearn.tree import DecisionTreeClassifier\n",
    "from sklearn.ensemble import RandomForestClassifier, GradientBoostingClassifier,AdaBoostClassifier\n",
    "from sklearn.neighbors import KNeighborsClassifier\n",
    "from xgboost import XGBClassifier\n",
    "from catboost import CatBoostClassifier\n",
    "from lightgbm import LGBMClassifier\n",
    "\n",
    "from sklearn.model_selection import train_test_split, StratifiedKFold, StratifiedShuffleSplit\n",
    "from sklearn.metrics import classification_report, confusion_matrix, f1_score, roc_auc_score\n",
    "\n",
    "from imblearn.over_sampling import SMOTE\n",
    "\n",
    "from sklearn.preprocessing import PolynomialFeatures\n",
    "\n",
    "import warnings\n",
    "warnings.filterwarnings('ignore')"
   ]
  },
  {
   "cell_type": "markdown",
   "id": "cc9d7a99",
   "metadata": {},
   "source": [
    "### Dataset"
   ]
  },
  {
   "cell_type": "code",
   "execution_count": 2,
   "id": "822f2045",
   "metadata": {},
   "outputs": [],
   "source": [
    "train_df = pd.read_csv('train.csv')\n",
    "test_df = pd.read_csv('test.csv')\n",
    "sample_submission = pd.read_csv('sample_submission.csv')"
   ]
  },
  {
   "cell_type": "code",
   "execution_count": 3,
   "id": "3b2caec8",
   "metadata": {},
   "outputs": [
    {
     "data": {
      "text/html": [
       "<div>\n",
       "<style scoped>\n",
       "    .dataframe tbody tr th:only-of-type {\n",
       "        vertical-align: middle;\n",
       "    }\n",
       "\n",
       "    .dataframe tbody tr th {\n",
       "        vertical-align: top;\n",
       "    }\n",
       "\n",
       "    .dataframe thead th {\n",
       "        text-align: right;\n",
       "    }\n",
       "</style>\n",
       "<table border=\"1\" class=\"dataframe\">\n",
       "  <thead>\n",
       "    <tr style=\"text-align: right;\">\n",
       "      <th></th>\n",
       "      <th>PatientID</th>\n",
       "      <th>HighBP</th>\n",
       "      <th>HighChol</th>\n",
       "      <th>CholCheck</th>\n",
       "      <th>BMI</th>\n",
       "      <th>Smoker</th>\n",
       "      <th>Stroke</th>\n",
       "      <th>Diabetes</th>\n",
       "      <th>PhysActivity</th>\n",
       "      <th>Fruits</th>\n",
       "      <th>...</th>\n",
       "      <th>NoDocbcCost</th>\n",
       "      <th>GenHlth</th>\n",
       "      <th>MentHlth</th>\n",
       "      <th>PhysHlth</th>\n",
       "      <th>DiffWalk</th>\n",
       "      <th>Sex</th>\n",
       "      <th>Age</th>\n",
       "      <th>Education</th>\n",
       "      <th>Income</th>\n",
       "      <th>target</th>\n",
       "    </tr>\n",
       "  </thead>\n",
       "  <tbody>\n",
       "    <tr>\n",
       "      <th>0</th>\n",
       "      <td>42351</td>\n",
       "      <td>1</td>\n",
       "      <td>1</td>\n",
       "      <td>1</td>\n",
       "      <td>29</td>\n",
       "      <td>0</td>\n",
       "      <td>0</td>\n",
       "      <td>0</td>\n",
       "      <td>1</td>\n",
       "      <td>1</td>\n",
       "      <td>...</td>\n",
       "      <td>0</td>\n",
       "      <td>3</td>\n",
       "      <td>0</td>\n",
       "      <td>0</td>\n",
       "      <td>0</td>\n",
       "      <td>0</td>\n",
       "      <td>13</td>\n",
       "      <td>5</td>\n",
       "      <td>8</td>\n",
       "      <td>0</td>\n",
       "    </tr>\n",
       "    <tr>\n",
       "      <th>1</th>\n",
       "      <td>135091</td>\n",
       "      <td>1</td>\n",
       "      <td>0</td>\n",
       "      <td>1</td>\n",
       "      <td>30</td>\n",
       "      <td>0</td>\n",
       "      <td>1</td>\n",
       "      <td>2</td>\n",
       "      <td>0</td>\n",
       "      <td>0</td>\n",
       "      <td>...</td>\n",
       "      <td>0</td>\n",
       "      <td>2</td>\n",
       "      <td>0</td>\n",
       "      <td>0</td>\n",
       "      <td>0</td>\n",
       "      <td>0</td>\n",
       "      <td>9</td>\n",
       "      <td>5</td>\n",
       "      <td>6</td>\n",
       "      <td>0</td>\n",
       "    </tr>\n",
       "    <tr>\n",
       "      <th>2</th>\n",
       "      <td>201403</td>\n",
       "      <td>0</td>\n",
       "      <td>0</td>\n",
       "      <td>1</td>\n",
       "      <td>31</td>\n",
       "      <td>0</td>\n",
       "      <td>0</td>\n",
       "      <td>0</td>\n",
       "      <td>1</td>\n",
       "      <td>1</td>\n",
       "      <td>...</td>\n",
       "      <td>0</td>\n",
       "      <td>2</td>\n",
       "      <td>0</td>\n",
       "      <td>7</td>\n",
       "      <td>0</td>\n",
       "      <td>0</td>\n",
       "      <td>10</td>\n",
       "      <td>6</td>\n",
       "      <td>8</td>\n",
       "      <td>0</td>\n",
       "    </tr>\n",
       "    <tr>\n",
       "      <th>3</th>\n",
       "      <td>72750</td>\n",
       "      <td>0</td>\n",
       "      <td>0</td>\n",
       "      <td>1</td>\n",
       "      <td>36</td>\n",
       "      <td>0</td>\n",
       "      <td>0</td>\n",
       "      <td>2</td>\n",
       "      <td>0</td>\n",
       "      <td>0</td>\n",
       "      <td>...</td>\n",
       "      <td>0</td>\n",
       "      <td>2</td>\n",
       "      <td>0</td>\n",
       "      <td>0</td>\n",
       "      <td>0</td>\n",
       "      <td>0</td>\n",
       "      <td>11</td>\n",
       "      <td>5</td>\n",
       "      <td>6</td>\n",
       "      <td>0</td>\n",
       "    </tr>\n",
       "    <tr>\n",
       "      <th>4</th>\n",
       "      <td>133895</td>\n",
       "      <td>0</td>\n",
       "      <td>1</td>\n",
       "      <td>1</td>\n",
       "      <td>29</td>\n",
       "      <td>0</td>\n",
       "      <td>0</td>\n",
       "      <td>0</td>\n",
       "      <td>1</td>\n",
       "      <td>1</td>\n",
       "      <td>...</td>\n",
       "      <td>0</td>\n",
       "      <td>4</td>\n",
       "      <td>0</td>\n",
       "      <td>0</td>\n",
       "      <td>1</td>\n",
       "      <td>1</td>\n",
       "      <td>10</td>\n",
       "      <td>6</td>\n",
       "      <td>7</td>\n",
       "      <td>0</td>\n",
       "    </tr>\n",
       "  </tbody>\n",
       "</table>\n",
       "<p>5 rows × 23 columns</p>\n",
       "</div>"
      ],
      "text/plain": [
       "   PatientID  HighBP  HighChol  CholCheck  BMI  Smoker  Stroke  Diabetes  \\\n",
       "0      42351       1         1          1   29       0       0         0   \n",
       "1     135091       1         0          1   30       0       1         2   \n",
       "2     201403       0         0          1   31       0       0         0   \n",
       "3      72750       0         0          1   36       0       0         2   \n",
       "4     133895       0         1          1   29       0       0         0   \n",
       "\n",
       "   PhysActivity  Fruits  ...  NoDocbcCost  GenHlth  MentHlth  PhysHlth  \\\n",
       "0             1       1  ...            0        3         0         0   \n",
       "1             0       0  ...            0        2         0         0   \n",
       "2             1       1  ...            0        2         0         7   \n",
       "3             0       0  ...            0        2         0         0   \n",
       "4             1       1  ...            0        4         0         0   \n",
       "\n",
       "   DiffWalk  Sex  Age  Education  Income  target  \n",
       "0         0    0   13          5       8       0  \n",
       "1         0    0    9          5       6       0  \n",
       "2         0    0   10          6       8       0  \n",
       "3         0    0   11          5       6       0  \n",
       "4         1    1   10          6       7       0  \n",
       "\n",
       "[5 rows x 23 columns]"
      ]
     },
     "execution_count": 3,
     "metadata": {},
     "output_type": "execute_result"
    }
   ],
   "source": [
    "train_df.head()"
   ]
  },
  {
   "cell_type": "code",
   "execution_count": 4,
   "id": "031c4227",
   "metadata": {},
   "outputs": [],
   "source": [
    "X = train_df.drop(['PatientID','target'], axis = 1)\n",
    "y = train_df['target'].copy()\n",
    "\n",
    "test = test_df.drop('PatientID', axis = 1)"
   ]
  },
  {
   "cell_type": "markdown",
   "id": "8568f462",
   "metadata": {},
   "source": [
    "### Splitting Dataset"
   ]
  },
  {
   "cell_type": "code",
   "execution_count": 5,
   "id": "0cc8a662",
   "metadata": {},
   "outputs": [],
   "source": [
    "strat_split = StratifiedShuffleSplit(n_splits=1, test_size = 0.25, random_state = 2021)\n",
    "for train_index, test_index in strat_split.split(X, y):\n",
    "    X_Train = X.iloc[train_index]; X_Test = X.iloc[test_index]\n",
    "    y_Train = y.iloc[train_index]; y_Test = y.iloc[test_index]"
   ]
  },
  {
   "cell_type": "markdown",
   "id": "01af2979",
   "metadata": {},
   "source": [
    "### Model fitting"
   ]
  },
  {
   "cell_type": "raw",
   "id": "1432bd66",
   "metadata": {},
   "source": [
    "# Model Preference \n",
    "\n",
    "1. Adaboost\n",
    "\n",
    "2. XGBoost\n",
    "\n",
    "3. Catboost\n",
    "\n",
    "4. RandomForest"
   ]
  },
  {
   "cell_type": "code",
   "execution_count": 6,
   "id": "ec0d23fa",
   "metadata": {},
   "outputs": [],
   "source": [
    "skfold = StratifiedKFold(n_splits = 10, random_state = 2022, shuffle = True)"
   ]
  },
  {
   "cell_type": "markdown",
   "id": "2951da61",
   "metadata": {},
   "source": [
    "### XGBoost"
   ]
  },
  {
   "cell_type": "code",
   "execution_count": 7,
   "id": "8cd02c1b",
   "metadata": {},
   "outputs": [
    {
     "name": "stdout",
     "output_type": "stream",
     "text": [
      "***************************Fold :1***********************************************\n",
      "[0]\tvalidation_0-auc:0.82407\n",
      "[250]\tvalidation_0-auc:0.85413\n",
      "[500]\tvalidation_0-auc:0.85898\n",
      "[750]\tvalidation_0-auc:0.85977\n",
      "[1000]\tvalidation_0-auc:0.85984\n",
      "[1079]\tvalidation_0-auc:0.85983\n",
      "Train score : 0.8548752879644992\n",
      "Validation score : 0.8598786221163094\n",
      "\n",
      "***************************Fold :2***********************************************\n",
      "[0]\tvalidation_0-auc:0.81182\n",
      "[250]\tvalidation_0-auc:0.84304\n",
      "[500]\tvalidation_0-auc:0.84618\n",
      "[750]\tvalidation_0-auc:0.84712\n",
      "[1000]\tvalidation_0-auc:0.84754\n",
      "[1250]\tvalidation_0-auc:0.84768\n",
      "[1499]\tvalidation_0-auc:0.84768\n",
      "Train score : 0.8590275631473014\n",
      "Validation score : 0.8477394467223942\n",
      "\n",
      "***************************Fold :3***********************************************\n",
      "[0]\tvalidation_0-auc:0.81737\n",
      "[250]\tvalidation_0-auc:0.85040\n",
      "[500]\tvalidation_0-auc:0.85377\n",
      "[750]\tvalidation_0-auc:0.85479\n",
      "[1000]\tvalidation_0-auc:0.85517\n",
      "[1250]\tvalidation_0-auc:0.85530\n",
      "[1486]\tvalidation_0-auc:0.85523\n",
      "Train score : 0.85766897126144\n",
      "Validation score : 0.8553095280777904\n",
      "\n",
      "***************************Fold :4***********************************************\n",
      "[0]\tvalidation_0-auc:0.82418\n",
      "[250]\tvalidation_0-auc:0.85352\n",
      "[500]\tvalidation_0-auc:0.85706\n",
      "[750]\tvalidation_0-auc:0.85830\n",
      "[1000]\tvalidation_0-auc:0.85875\n",
      "[1250]\tvalidation_0-auc:0.85884\n",
      "[1366]\tvalidation_0-auc:0.85881\n",
      "Train score : 0.8566725541936899\n",
      "Validation score : 0.8588521373514567\n",
      "\n",
      "***************************Fold :5***********************************************\n",
      "[0]\tvalidation_0-auc:0.81179\n",
      "[250]\tvalidation_0-auc:0.84238\n",
      "[500]\tvalidation_0-auc:0.84544\n",
      "[750]\tvalidation_0-auc:0.84600\n",
      "[1000]\tvalidation_0-auc:0.84625\n",
      "[1203]\tvalidation_0-auc:0.84625\n",
      "Train score : 0.8571630418542998\n",
      "Validation score : 0.8462541551385699\n",
      "\n",
      "***************************Fold :6***********************************************\n",
      "[0]\tvalidation_0-auc:0.80170\n",
      "[250]\tvalidation_0-auc:0.83399\n",
      "[500]\tvalidation_0-auc:0.83689\n",
      "[750]\tvalidation_0-auc:0.83736\n",
      "[1000]\tvalidation_0-auc:0.83742\n",
      "[1182]\tvalidation_0-auc:0.83736\n",
      "Train score : 0.8579914947984274\n",
      "Validation score : 0.8374455059459597\n",
      "\n",
      "***************************Fold :7***********************************************\n",
      "[0]\tvalidation_0-auc:0.81358\n",
      "[250]\tvalidation_0-auc:0.84246\n",
      "[500]\tvalidation_0-auc:0.84468\n",
      "[750]\tvalidation_0-auc:0.84563\n",
      "[1000]\tvalidation_0-auc:0.84568\n",
      "[1081]\tvalidation_0-auc:0.84563\n",
      "Train score : 0.8564599184438223\n",
      "Validation score : 0.8457295738517381\n",
      "\n",
      "***************************Fold :8***********************************************\n",
      "[0]\tvalidation_0-auc:0.80411\n",
      "[250]\tvalidation_0-auc:0.84456\n",
      "[500]\tvalidation_0-auc:0.84806\n",
      "[750]\tvalidation_0-auc:0.84880\n",
      "[1000]\tvalidation_0-auc:0.84886\n",
      "[1212]\tvalidation_0-auc:0.84880\n",
      "Train score : 0.8568210485905675\n",
      "Validation score : 0.848892826773952\n",
      "\n",
      "***************************Fold :9***********************************************\n",
      "[0]\tvalidation_0-auc:0.80899\n",
      "[250]\tvalidation_0-auc:0.83566\n",
      "[500]\tvalidation_0-auc:0.84037\n",
      "[750]\tvalidation_0-auc:0.84176\n",
      "[1000]\tvalidation_0-auc:0.84238\n",
      "[1250]\tvalidation_0-auc:0.84258\n",
      "[1499]\tvalidation_0-auc:0.84262\n",
      "Train score : 0.8591449357223049\n",
      "Validation score : 0.8426418342215982\n",
      "\n",
      "***************************Fold :10***********************************************\n",
      "[0]\tvalidation_0-auc:0.81798\n",
      "[250]\tvalidation_0-auc:0.84880\n",
      "[500]\tvalidation_0-auc:0.85261\n",
      "[750]\tvalidation_0-auc:0.85337\n",
      "[1000]\tvalidation_0-auc:0.85354\n",
      "[1101]\tvalidation_0-auc:0.85351\n",
      "Train score : 0.8557556159548987\n",
      "Validation score : 0.8535766244480752\n",
      "\n",
      "Training ROC score : 0.857158043193125\n",
      "Testing ROC score : 0.8496320254647843 +/- 0.006825969091155074\n"
     ]
    }
   ],
   "source": [
    "model_xgb = XGBClassifier(learning_rate=0.01,subsample=0.7,colsample_bytree=0.9,reg_alpha=10,\n",
    "               n_jobs=-1,n_estimators=1500,max_depth= 5,random_state=34)\n",
    "\n",
    "train_roc_xgb, val_roc_xgb = [], []\n",
    "\n",
    "train_pred_xgb = np.zeros(len(X_Train))\n",
    "val_pred_xgb = np.zeros(len(X_Train))\n",
    "test_pred_xgb = np.zeros(len(test))\n",
    "validation_pred_xgb = np.zeros(len(X_Test))\n",
    "fold = 0\n",
    "\n",
    "for train_index, val_index in skfold.split(X_Train, y_Train):\n",
    "    X_train = X_Train.iloc[train_index] ; y_train = y_Train.iloc[train_index].values\n",
    "    X_val = X_Train.iloc[val_index] ; y_val = y_Train.iloc[val_index].values\n",
    "    fold += 1\n",
    "    print(f'***************************Fold :{fold}***********************************************')\n",
    "    \n",
    "    model_xgb.fit(X_train, y_train, early_stopping_rounds = 200, eval_metric=\"auc\",\n",
    "                       eval_set=[(X_val, y_val)],verbose=250)\n",
    "    \n",
    "    train_pred = model_xgb.predict_proba(X_train, ntree_limit = model_xgb.get_booster().best_ntree_limit)[:,1]\n",
    "    val_pred = model_xgb.predict_proba(X_val, ntree_limit = model_xgb.get_booster().best_ntree_limit)[:,1]\n",
    "\n",
    "    train_pred_xgb[train_index] = train_pred\n",
    "    val_pred_xgb[val_index] = val_pred\n",
    "    \n",
    "    test_pred_xgb += model_xgb.predict_proba(test)[:,1]\n",
    "    validation_pred_xgb += model_xgb.predict_proba(X_Test)[:,1]\n",
    "    \n",
    "    print(f'Train score : {roc_auc_score(y_train, train_pred)}')\n",
    "    print(f'Validation score : {roc_auc_score(y_val, val_pred)}\\n')\n",
    "    \n",
    "   \n",
    "    train_roc_xgb.append(roc_auc_score(y_train, train_pred)); val_roc_xgb.append(roc_auc_score(y_val,val_pred))\n",
    "    \n",
    "test_pred_xgb = test_pred_xgb / 10\n",
    "validation_pred_xgb = validation_pred_xgb / 10\n",
    "print(f'Training ROC score : {np.mean(train_roc_xgb)}')\n",
    "print(f'Testing ROC score : {np.mean(val_roc_xgb)} +/- {np.std(val_roc_xgb)}')"
   ]
  },
  {
   "cell_type": "markdown",
   "id": "88ccf128",
   "metadata": {},
   "source": [
    "### Choosing a Threshold"
   ]
  },
  {
   "cell_type": "code",
   "execution_count": 8,
   "id": "83cf56c7",
   "metadata": {},
   "outputs": [],
   "source": [
    "train_pred = pd.DataFrame({'Pred_proba': val_pred_xgb, 'Target': y_Train})"
   ]
  },
  {
   "cell_type": "code",
   "execution_count": 9,
   "id": "06e2e63d",
   "metadata": {},
   "outputs": [
    {
     "data": {
      "text/plain": [
       "79.93169648037932"
      ]
     },
     "execution_count": 9,
     "metadata": {},
     "output_type": "execute_result"
    }
   ],
   "source": [
    "sum(train_pred[train_pred['Target'].eq(0)]['Pred_proba'].lt(0.13))/len(train_pred[train_pred['Target'].eq(0)])*100"
   ]
  },
  {
   "cell_type": "code",
   "execution_count": 10,
   "id": "23177e9a",
   "metadata": {},
   "outputs": [
    {
     "data": {
      "text/plain": [
       "72.74394132653062"
      ]
     },
     "execution_count": 10,
     "metadata": {},
     "output_type": "execute_result"
    }
   ],
   "source": [
    "sum(train_pred[train_pred['Target'].eq(1)]['Pred_proba'].ge(0.13))/len(train_pred[train_pred['Target'].eq(1)])*100"
   ]
  },
  {
   "cell_type": "code",
   "execution_count": 11,
   "id": "cf1ccb8a",
   "metadata": {},
   "outputs": [
    {
     "data": {
      "text/html": [
       "<div>\n",
       "<style scoped>\n",
       "    .dataframe tbody tr th:only-of-type {\n",
       "        vertical-align: middle;\n",
       "    }\n",
       "\n",
       "    .dataframe tbody tr th {\n",
       "        vertical-align: top;\n",
       "    }\n",
       "\n",
       "    .dataframe thead th {\n",
       "        text-align: right;\n",
       "    }\n",
       "</style>\n",
       "<table border=\"1\" class=\"dataframe\">\n",
       "  <thead>\n",
       "    <tr style=\"text-align: right;\">\n",
       "      <th></th>\n",
       "      <th>Pred_proba</th>\n",
       "      <th>Target</th>\n",
       "    </tr>\n",
       "  </thead>\n",
       "  <tbody>\n",
       "    <tr>\n",
       "      <th>count</th>\n",
       "      <td>12544.000000</td>\n",
       "      <td>12544.0</td>\n",
       "    </tr>\n",
       "    <tr>\n",
       "      <th>mean</th>\n",
       "      <td>0.258929</td>\n",
       "      <td>1.0</td>\n",
       "    </tr>\n",
       "    <tr>\n",
       "      <th>std</th>\n",
       "      <td>0.169924</td>\n",
       "      <td>0.0</td>\n",
       "    </tr>\n",
       "    <tr>\n",
       "      <th>min</th>\n",
       "      <td>0.001949</td>\n",
       "      <td>1.0</td>\n",
       "    </tr>\n",
       "    <tr>\n",
       "      <th>25%</th>\n",
       "      <td>0.120850</td>\n",
       "      <td>1.0</td>\n",
       "    </tr>\n",
       "    <tr>\n",
       "      <th>50%</th>\n",
       "      <td>0.232234</td>\n",
       "      <td>1.0</td>\n",
       "    </tr>\n",
       "    <tr>\n",
       "      <th>75%</th>\n",
       "      <td>0.374559</td>\n",
       "      <td>1.0</td>\n",
       "    </tr>\n",
       "    <tr>\n",
       "      <th>max</th>\n",
       "      <td>0.813601</td>\n",
       "      <td>1.0</td>\n",
       "    </tr>\n",
       "  </tbody>\n",
       "</table>\n",
       "</div>"
      ],
      "text/plain": [
       "         Pred_proba   Target\n",
       "count  12544.000000  12544.0\n",
       "mean       0.258929      1.0\n",
       "std        0.169924      0.0\n",
       "min        0.001949      1.0\n",
       "25%        0.120850      1.0\n",
       "50%        0.232234      1.0\n",
       "75%        0.374559      1.0\n",
       "max        0.813601      1.0"
      ]
     },
     "execution_count": 11,
     "metadata": {},
     "output_type": "execute_result"
    }
   ],
   "source": [
    "train_pred[train_pred['Target'].eq(1)].describe()"
   ]
  },
  {
   "cell_type": "code",
   "execution_count": 12,
   "id": "45ddd5c1",
   "metadata": {},
   "outputs": [
    {
     "data": {
      "text/html": [
       "<div>\n",
       "<style scoped>\n",
       "    .dataframe tbody tr th:only-of-type {\n",
       "        vertical-align: middle;\n",
       "    }\n",
       "\n",
       "    .dataframe tbody tr th {\n",
       "        vertical-align: top;\n",
       "    }\n",
       "\n",
       "    .dataframe thead th {\n",
       "        text-align: right;\n",
       "    }\n",
       "</style>\n",
       "<table border=\"1\" class=\"dataframe\">\n",
       "  <thead>\n",
       "    <tr style=\"text-align: right;\">\n",
       "      <th></th>\n",
       "      <th>Pred_proba</th>\n",
       "      <th>Target</th>\n",
       "    </tr>\n",
       "  </thead>\n",
       "  <tbody>\n",
       "    <tr>\n",
       "      <th>count</th>\n",
       "      <td>120638.000000</td>\n",
       "      <td>120638.0</td>\n",
       "    </tr>\n",
       "    <tr>\n",
       "      <th>mean</th>\n",
       "      <td>0.077075</td>\n",
       "      <td>0.0</td>\n",
       "    </tr>\n",
       "    <tr>\n",
       "      <th>std</th>\n",
       "      <td>0.105755</td>\n",
       "      <td>0.0</td>\n",
       "    </tr>\n",
       "    <tr>\n",
       "      <th>min</th>\n",
       "      <td>0.001515</td>\n",
       "      <td>0.0</td>\n",
       "    </tr>\n",
       "    <tr>\n",
       "      <th>25%</th>\n",
       "      <td>0.009162</td>\n",
       "      <td>0.0</td>\n",
       "    </tr>\n",
       "    <tr>\n",
       "      <th>50%</th>\n",
       "      <td>0.030296</td>\n",
       "      <td>0.0</td>\n",
       "    </tr>\n",
       "    <tr>\n",
       "      <th>75%</th>\n",
       "      <td>0.101537</td>\n",
       "      <td>0.0</td>\n",
       "    </tr>\n",
       "    <tr>\n",
       "      <th>max</th>\n",
       "      <td>0.803400</td>\n",
       "      <td>0.0</td>\n",
       "    </tr>\n",
       "  </tbody>\n",
       "</table>\n",
       "</div>"
      ],
      "text/plain": [
       "          Pred_proba    Target\n",
       "count  120638.000000  120638.0\n",
       "mean        0.077075       0.0\n",
       "std         0.105755       0.0\n",
       "min         0.001515       0.0\n",
       "25%         0.009162       0.0\n",
       "50%         0.030296       0.0\n",
       "75%         0.101537       0.0\n",
       "max         0.803400       0.0"
      ]
     },
     "execution_count": 12,
     "metadata": {},
     "output_type": "execute_result"
    }
   ],
   "source": [
    "train_pred[train_pred['Target'].eq(0)].describe()"
   ]
  },
  {
   "cell_type": "code",
   "execution_count": 13,
   "id": "620b512a",
   "metadata": {},
   "outputs": [
    {
     "data": {
      "text/html": [
       "<div>\n",
       "<style scoped>\n",
       "    .dataframe tbody tr th:only-of-type {\n",
       "        vertical-align: middle;\n",
       "    }\n",
       "\n",
       "    .dataframe tbody tr th {\n",
       "        vertical-align: top;\n",
       "    }\n",
       "\n",
       "    .dataframe thead th {\n",
       "        text-align: right;\n",
       "    }\n",
       "</style>\n",
       "<table border=\"1\" class=\"dataframe\">\n",
       "  <thead>\n",
       "    <tr style=\"text-align: right;\">\n",
       "      <th></th>\n",
       "      <th>Pred_proba</th>\n",
       "      <th>Target</th>\n",
       "    </tr>\n",
       "  </thead>\n",
       "  <tbody>\n",
       "    <tr>\n",
       "      <th>86585</th>\n",
       "      <td>0.003404</td>\n",
       "      <td>0</td>\n",
       "    </tr>\n",
       "    <tr>\n",
       "      <th>71512</th>\n",
       "      <td>0.330358</td>\n",
       "      <td>0</td>\n",
       "    </tr>\n",
       "    <tr>\n",
       "      <th>142287</th>\n",
       "      <td>0.008621</td>\n",
       "      <td>0</td>\n",
       "    </tr>\n",
       "    <tr>\n",
       "      <th>135730</th>\n",
       "      <td>0.004984</td>\n",
       "      <td>0</td>\n",
       "    </tr>\n",
       "    <tr>\n",
       "      <th>64399</th>\n",
       "      <td>0.006419</td>\n",
       "      <td>0</td>\n",
       "    </tr>\n",
       "  </tbody>\n",
       "</table>\n",
       "</div>"
      ],
      "text/plain": [
       "        Pred_proba  Target\n",
       "86585     0.003404       0\n",
       "71512     0.330358       0\n",
       "142287    0.008621       0\n",
       "135730    0.004984       0\n",
       "64399     0.006419       0"
      ]
     },
     "execution_count": 13,
     "metadata": {},
     "output_type": "execute_result"
    }
   ],
   "source": [
    "train_pred.head()"
   ]
  },
  {
   "cell_type": "code",
   "execution_count": 14,
   "id": "30a97c89",
   "metadata": {},
   "outputs": [],
   "source": [
    "train_pred['treshold_0.12'] = train_pred['Pred_proba'].apply(lambda x: 1 if x >= 0.12 else 0)"
   ]
  },
  {
   "cell_type": "code",
   "execution_count": 15,
   "id": "6b9770b1",
   "metadata": {},
   "outputs": [
    {
     "data": {
      "text/plain": [
       "0.39204521840322515"
      ]
     },
     "execution_count": 15,
     "metadata": {},
     "output_type": "execute_result"
    }
   ],
   "source": [
    "f1_score(train_pred['Target'], train_pred['treshold_0.12'])"
   ]
  },
  {
   "cell_type": "raw",
   "id": "039bed22",
   "metadata": {},
   "source": [
    "Possible Tresholds\n",
    "\n",
    "0.15\n",
    "\n",
    "0.232234\n",
    "\n",
    "0.374559"
   ]
  },
  {
   "cell_type": "markdown",
   "id": "6fb4cd42",
   "metadata": {},
   "source": [
    "### Model Evaluation"
   ]
  },
  {
   "cell_type": "code",
   "execution_count": 20,
   "id": "f695f68d",
   "metadata": {},
   "outputs": [
    {
     "data": {
      "text/html": [
       "<div>\n",
       "<style scoped>\n",
       "    .dataframe tbody tr th:only-of-type {\n",
       "        vertical-align: middle;\n",
       "    }\n",
       "\n",
       "    .dataframe tbody tr th {\n",
       "        vertical-align: top;\n",
       "    }\n",
       "\n",
       "    .dataframe thead th {\n",
       "        text-align: right;\n",
       "    }\n",
       "</style>\n",
       "<table border=\"1\" class=\"dataframe\">\n",
       "  <thead>\n",
       "    <tr style=\"text-align: right;\">\n",
       "      <th></th>\n",
       "      <th>Pred_proba</th>\n",
       "      <th>treshold_0.12</th>\n",
       "    </tr>\n",
       "  </thead>\n",
       "  <tbody>\n",
       "    <tr>\n",
       "      <th>0</th>\n",
       "      <td>0.022175</td>\n",
       "      <td>0</td>\n",
       "    </tr>\n",
       "    <tr>\n",
       "      <th>1</th>\n",
       "      <td>0.029917</td>\n",
       "      <td>0</td>\n",
       "    </tr>\n",
       "    <tr>\n",
       "      <th>2</th>\n",
       "      <td>0.133997</td>\n",
       "      <td>1</td>\n",
       "    </tr>\n",
       "    <tr>\n",
       "      <th>3</th>\n",
       "      <td>0.021714</td>\n",
       "      <td>0</td>\n",
       "    </tr>\n",
       "    <tr>\n",
       "      <th>4</th>\n",
       "      <td>0.154727</td>\n",
       "      <td>1</td>\n",
       "    </tr>\n",
       "  </tbody>\n",
       "</table>\n",
       "</div>"
      ],
      "text/plain": [
       "   Pred_proba  treshold_0.12\n",
       "0    0.022175              0\n",
       "1    0.029917              0\n",
       "2    0.133997              1\n",
       "3    0.021714              0\n",
       "4    0.154727              1"
      ]
     },
     "execution_count": 20,
     "metadata": {},
     "output_type": "execute_result"
    }
   ],
   "source": [
    "test_pred.head()"
   ]
  },
  {
   "cell_type": "code",
   "execution_count": 17,
   "id": "831f1c09",
   "metadata": {},
   "outputs": [],
   "source": [
    "validation_pred = pd.DataFrame(validation_pred_xgb, columns = ['Pred_proba'])\n",
    "validation_pred['treshold_0.12'] = validation_pred['Pred_proba'].apply(lambda x: 1 if x >= 0.12 else 0)"
   ]
  },
  {
   "cell_type": "code",
   "execution_count": 18,
   "id": "57326964",
   "metadata": {},
   "outputs": [
    {
     "data": {
      "text/html": [
       "<div>\n",
       "<style scoped>\n",
       "    .dataframe tbody tr th:only-of-type {\n",
       "        vertical-align: middle;\n",
       "    }\n",
       "\n",
       "    .dataframe tbody tr th {\n",
       "        vertical-align: top;\n",
       "    }\n",
       "\n",
       "    .dataframe thead th {\n",
       "        text-align: right;\n",
       "    }\n",
       "</style>\n",
       "<table border=\"1\" class=\"dataframe\">\n",
       "  <thead>\n",
       "    <tr style=\"text-align: right;\">\n",
       "      <th></th>\n",
       "      <th>Pred_proba</th>\n",
       "      <th>treshold_0.12</th>\n",
       "    </tr>\n",
       "  </thead>\n",
       "  <tbody>\n",
       "    <tr>\n",
       "      <th>0</th>\n",
       "      <td>0.003819</td>\n",
       "      <td>0</td>\n",
       "    </tr>\n",
       "    <tr>\n",
       "      <th>1</th>\n",
       "      <td>0.056411</td>\n",
       "      <td>0</td>\n",
       "    </tr>\n",
       "    <tr>\n",
       "      <th>2</th>\n",
       "      <td>0.003566</td>\n",
       "      <td>0</td>\n",
       "    </tr>\n",
       "    <tr>\n",
       "      <th>3</th>\n",
       "      <td>0.004894</td>\n",
       "      <td>0</td>\n",
       "    </tr>\n",
       "    <tr>\n",
       "      <th>4</th>\n",
       "      <td>0.021170</td>\n",
       "      <td>0</td>\n",
       "    </tr>\n",
       "  </tbody>\n",
       "</table>\n",
       "</div>"
      ],
      "text/plain": [
       "   Pred_proba  treshold_0.12\n",
       "0    0.003819              0\n",
       "1    0.056411              0\n",
       "2    0.003566              0\n",
       "3    0.004894              0\n",
       "4    0.021170              0"
      ]
     },
     "execution_count": 18,
     "metadata": {},
     "output_type": "execute_result"
    }
   ],
   "source": [
    "validation_pred.head()"
   ]
  },
  {
   "cell_type": "code",
   "execution_count": 21,
   "id": "51ae31da",
   "metadata": {},
   "outputs": [
    {
     "data": {
      "text/plain": [
       "0.39308507342462357"
      ]
     },
     "execution_count": 21,
     "metadata": {},
     "output_type": "execute_result"
    }
   ],
   "source": [
    "f1_score(y_Test, validation_pred['treshold_0.12'])"
   ]
  },
  {
   "cell_type": "code",
   "execution_count": null,
   "id": "844ae57d",
   "metadata": {},
   "outputs": [],
   "source": []
  },
  {
   "cell_type": "code",
   "execution_count": 19,
   "id": "b060ca2d",
   "metadata": {},
   "outputs": [],
   "source": [
    "test_pred = pd.DataFrame(test_pred_xgb, columns = ['Pred_proba'])\n",
    "test_pred['treshold_0.12'] = test_pred['Pred_proba'].apply(lambda x: 1 if x >= 0.12 else 0)"
   ]
  },
  {
   "cell_type": "markdown",
   "id": "b2130bba",
   "metadata": {},
   "source": [
    "### Submission file"
   ]
  },
  {
   "cell_type": "code",
   "execution_count": 25,
   "id": "c9f45b26",
   "metadata": {},
   "outputs": [],
   "source": [
    "sub_1 = sample_submission.copy()\n",
    "sub_1['target'] = test_pred['treshold_0.12']\n",
    "sub_1.to_csv('Baseline_model.csv', index = False)"
   ]
  },
  {
   "cell_type": "code",
   "execution_count": 26,
   "id": "6c56f6ed",
   "metadata": {},
   "outputs": [
    {
     "data": {
      "text/html": [
       "<div>\n",
       "<style scoped>\n",
       "    .dataframe tbody tr th:only-of-type {\n",
       "        vertical-align: middle;\n",
       "    }\n",
       "\n",
       "    .dataframe tbody tr th {\n",
       "        vertical-align: top;\n",
       "    }\n",
       "\n",
       "    .dataframe thead th {\n",
       "        text-align: right;\n",
       "    }\n",
       "</style>\n",
       "<table border=\"1\" class=\"dataframe\">\n",
       "  <thead>\n",
       "    <tr style=\"text-align: right;\">\n",
       "      <th></th>\n",
       "      <th>PatientID</th>\n",
       "      <th>target</th>\n",
       "    </tr>\n",
       "  </thead>\n",
       "  <tbody>\n",
       "    <tr>\n",
       "      <th>0</th>\n",
       "      <td>222135</td>\n",
       "      <td>0</td>\n",
       "    </tr>\n",
       "    <tr>\n",
       "      <th>1</th>\n",
       "      <td>66531</td>\n",
       "      <td>0</td>\n",
       "    </tr>\n",
       "    <tr>\n",
       "      <th>2</th>\n",
       "      <td>212920</td>\n",
       "      <td>1</td>\n",
       "    </tr>\n",
       "    <tr>\n",
       "      <th>3</th>\n",
       "      <td>11402</td>\n",
       "      <td>0</td>\n",
       "    </tr>\n",
       "    <tr>\n",
       "      <th>4</th>\n",
       "      <td>136077</td>\n",
       "      <td>1</td>\n",
       "    </tr>\n",
       "  </tbody>\n",
       "</table>\n",
       "</div>"
      ],
      "text/plain": [
       "   PatientID  target\n",
       "0     222135       0\n",
       "1      66531       0\n",
       "2     212920       1\n",
       "3      11402       0\n",
       "4     136077       1"
      ]
     },
     "execution_count": 26,
     "metadata": {},
     "output_type": "execute_result"
    }
   ],
   "source": [
    "sub_1.head()"
   ]
  },
  {
   "cell_type": "code",
   "execution_count": null,
   "id": "93cc13aa",
   "metadata": {},
   "outputs": [],
   "source": []
  }
 ],
 "metadata": {
  "kernelspec": {
   "display_name": "Python 3 (ipykernel)",
   "language": "python",
   "name": "python3"
  },
  "language_info": {
   "codemirror_mode": {
    "name": "ipython",
    "version": 3
   },
   "file_extension": ".py",
   "mimetype": "text/x-python",
   "name": "python",
   "nbconvert_exporter": "python",
   "pygments_lexer": "ipython3",
   "version": "3.8.8"
  }
 },
 "nbformat": 4,
 "nbformat_minor": 5
}
